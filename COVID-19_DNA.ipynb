{
 "cells": [
  {
   "cell_type": "code",
   "execution_count": 14,
   "metadata": {},
   "outputs": [
    {
     "data": {
      "application/vnd.jupyter.widget-view+json": {
       "model_id": "7ca80bae88724974b1e69f64c5fe59b5",
       "version_major": 2,
       "version_minor": 0
      },
      "text/plain": [
       "_ColormakerRegistry()"
      ]
     },
     "metadata": {},
     "output_type": "display_data"
    }
   ],
   "source": [
    "import nglview\n",
    "import os\n",
    "from simtk.openmm.app import *\n",
    "from simtk.openmm import *\n",
    "from simtk.unit import *\n",
    "from sys import stdout\n",
    "import random"
   ]
  },
  {
   "cell_type": "code",
   "execution_count": 2,
   "metadata": {},
   "outputs": [
    {
     "name": "stdout",
     "output_type": "stream",
     "text": [
      "Length of SARS-CoV-2 Genome: 29903\n"
     ]
    }
   ],
   "source": [
    "DNA = open(\"SARS-CoV-2-Sequence.txt\") # Load Genome sequence\n",
    "DNA = DNA.read()\n",
    "for s in \" \\n0123456789\":\n",
    "    DNA = DNA.replace(s, \"\")\n",
    "\n",
    "DNA = DNA.upper()\n",
    "print(\"Length of SARS-CoV-2 Genome: {}\".format(len(DNA)))"
   ]
  },
  {
   "cell_type": "code",
   "execution_count": 3,
   "metadata": {},
   "outputs": [],
   "source": [
    "#Asn or Asp / B\tAAU, AAC; GAU, GAC\n",
    "#Gln or Glu / Z\tCAA, CAG; GAA, GAG\n",
    "#START\tAUG  ------ Duplicate Values in Talbe\n",
    "\n",
    "table = open(\"DNA-Genome-Table.txt\")   # Load Genome Conversion Table\n",
    "table = table.read().strip()\n",
    "dec = {}\n",
    "for t in table.split(\"\\n\"):\n",
    "    k, v = t.split(\"\\x09\")\n",
    "    k = k.replace(\"STOP\", \"#\")\n",
    "    if \"/\" in k:\n",
    "        k = k.split(\"/\")[-1].strip()\n",
    "    v = v.replace(\",\", \"\").replace(\";\",\"\").replace(\"U\", \"T\").split()\n",
    "    for vv in v:\n",
    "        dec[vv] = k"
   ]
  },
  {
   "cell_type": "code",
   "execution_count": 11,
   "metadata": {},
   "outputs": [],
   "source": [
    "def translation(x):\n",
    "    amino = []\n",
    "    for r in range(0, len(x)-2, 3):\n",
    "        condon = x[r:3+r]\n",
    "        for ii in dec:\n",
    "            if condon == ii:\n",
    "                amino.append(dec[str(ii)])\n",
    "                \n",
    "    amino = \"\".join(amino)\n",
    "    return amino"
   ]
  },
  {
   "cell_type": "code",
   "execution_count": 12,
   "metadata": {},
   "outputs": [
    {
     "name": "stdout",
     "output_type": "stream",
     "text": [
      "Spike Protein Sequence \n",
      "MFVFLVLLPLVSSQCVNLTTRTQLPPAYTNSFTRGVYYPDKVFRSSVLHSTQDLFLPFFSNVTWFHAIHVSGTNGTKRFDNPVLPFNDGVYFASTEKSNIIRGWIFGTTLDSKTQSLLIVNNATNVVIKVCEFQFCNDPFLGVYYHKNNKSWMESEFRVYSSANNCTFEYVSQPFLMDLEGKQGNFKNLREFVFKNIDGYFKIYSKHTPINLVRDLPQGFSALEPLVDLPIGINITRFQTLLALHRSYLTPGDSSSGWTAGAAAYYVGYLQPRTFLLKYNENGTITDAVDCALDPLSETKCTLKSFTVEKGIYQTSNFRVQPTESIVRFPNITNLCPFGEVFNATRFASVYAWNRKRISNCVADYSVLYNSASFSTFKCYGVSPTKLNDLCFTNVYADSFVIRGDEVRQIAPGQTGKIADYNYKLPDDFTGCVIAWNSNNLDSKVGGNYNYLYRLFRKSNLKPFERDISTEIYQAGSTPCNGVEGFNCYFPLQSYGFQPTNGVGYQPYRVVVLSFELLHAPATVCGPKKSTNLVKNKCVNFNFNGLTGTGVLTESNKKFLPFQQFGRDIADTTDAVRDPQTLEILDITPCSFGGVSVITPGTNTSNQVAVLYQDVNCTEVPVAIHADQLTPTWRVYSTGSNVFQTRAGCLIGAEHVNNSYECDIPIGAGICASYQTQTNSPRRARSVASQSIIAYTMSLGAENSVAYSNNSIAIPTNFTISVTTEILPVSMTKTSVDCTMYICGDSTECSNLLLQYGSFCTQLNRALTGIAVEQDKNTQEVFAQVKQIYKTPPIKDFGGFNFSQILPDPSKPSKRSFIEDLLFNKVTLADAGFIKQYGDCLGDIAARDLICAQKFNGLTVLPPLLTDEMIAQYTSALLAGTITSGWTFGAGAALQIPFAMQMAYRFNGIGVTQNVLYENQKLIANQFNSAIGKIQDSLSSTASALGKLQDVVNQNAQALNTLVKQLSSNFGAISSVLNDILSRLDKVEAEVQIDRLITGRLQSLQTYVTQQLIRAAEIRASANLAATKMSECVLGQSKRVDFCGKGYHLMSFPQSAPHGVVFLHVTYVPAQEKNFTTAPAICHDGKAHFPREGVFVSNGTHWFVTQRNFYEPQIITTDNTFVSGNCDVVIGIVNNTVYDPLQPELDSFKEELDKYFKNHTSPDVDLGDISGINASVVNIQKEIDRLNEVAKNLNESLIDLQELGKYEQYIKWPWYIWLGFIAGLIAIVMVTIMLCCMTSCCSCLKGCCSCGSCCKFDEDDSEPVLKGVKLHYT\n"
     ]
    }
   ],
   "source": [
    "# Protein Sequences Extracted from Genome\n",
    "\n",
    "orflab_poly = translation(DNA[266-1:13483-1])\n",
    "spike_glycoprotein = translation(DNA[21563-1:25384-1])\n",
    "nucleocapsid_phosphoprotein = translation(DNA[28274-1:29533-1])\n",
    "envelope_protein = translation(DNA[26245-1:26472-1])\n",
    "membrane_glycoprotein = translation(DNA[26523-1:27191-1])\n",
    "\n",
    "print(\"Spike Protein Sequence \\n{}\".format(spike_glycoprotein))"
   ]
  },
  {
   "cell_type": "code",
   "execution_count": 17,
   "metadata": {},
   "outputs": [
    {
     "name": "stdout",
     "output_type": "stream",
     "text": [
      "Input PDB File\n"
     ]
    },
    {
     "data": {
      "application/vnd.jupyter.widget-view+json": {
       "model_id": "a4f975a614b5468b88573bfcabbf9749",
       "version_major": 2,
       "version_minor": 0
      },
      "text/plain": [
       "NGLWidget()"
      ]
     },
     "metadata": {},
     "output_type": "display_data"
    }
   ],
   "source": [
    "print(\"Input PDB File\")\n",
    "view = nglview.NGLWidget()\n",
    "view.add_component(\".\\\\PDB Files\\\\1ubq.pdb\")\n",
    "view.add_representation(\"licorice\")\n",
    "view.background = 'white'\n",
    "view"
   ]
  },
  {
   "cell_type": "code",
   "execution_count": 15,
   "metadata": {},
   "outputs": [
    {
     "name": "stdout",
     "output_type": "stream",
     "text": [
      "<Topology; 2 chains, 134 residues, 660 atoms, 608 bonds>\n",
      "<Topology; 2 chains, 134 residues, 1405 atoms, 1353 bonds>\n",
      "<Topology; 3 chains, 1502 residues, 5509 atoms, 4089 bonds>\n"
     ]
    }
   ],
   "source": [
    "pdb = PDBFile(\".\\\\PDB Files\\\\1ubq.pdb\")\n",
    "forcefield = ForceField('amber99sb.xml', 'tip3p.xml')\n",
    "\n",
    "modeller = Modeller(pdb.topology, pdb.positions)\n",
    "print(modeller.topology)\n",
    "modeller.addHydrogens(forcefield)\n",
    "print(modeller.topology)\n",
    "modeller.addSolvent(forcefield)\n",
    "print(modeller.topology)"
   ]
  },
  {
   "cell_type": "code",
   "execution_count": 18,
   "metadata": {},
   "outputs": [],
   "source": [
    "unmatched = forcefield.getUnmatchedResidues(pdb.topology)"
   ]
  },
  {
   "cell_type": "code",
   "execution_count": 22,
   "metadata": {
    "scrolled": true
   },
   "outputs": [
    {
     "name": "stdout",
     "output_type": "stream",
     "text": [
      "#\"Step\",\"Potential Energy (kJ/mole)\",\"Temperature (K)\"\n",
      "1000,-67087.078125,256.98348697051705\n",
      "2000,-63974.140625,289.2480081250786\n",
      "3000,-63755.125,301.6182178553418\n",
      "4000,-63924.5546875,296.5305918744653\n",
      "5000,-63707.65625,301.51250726866635\n",
      "6000,-64285.390625,292.7764960188714\n",
      "7000,-64078.5703125,298.8111405857978\n",
      "8000,-63747.046875,296.6262445653699\n",
      "9000,-64486.17578125,297.48838352947155\n",
      "10000,-64190.73046875,303.8122083538251\n"
     ]
    }
   ],
   "source": [
    "# MD Simulation\n",
    "system = forcefield.createSystem(modeller.topology, implicitSolvent=OBC2,\n",
    "                              nonbondedMethod=NoCutoff, nonbondedCutoff=1*nanometer,\n",
    "                              constraints=HBonds)\n",
    "\n",
    "integrator = LangevinIntegrator(300*kelvin, 1/picosecond, 2*femtoseconds)\n",
    "simulation = Simulation(modeller.topology, system, integrator)\n",
    "simulation.context.setPositions(modeller.positions)\n",
    "simulation.minimizeEnergy()\n",
    "simulation.reporters.append(PDBReporter('.\\\\PDB Files\\\\Output\\\\output.pdb', 1000))\n",
    "simulation.reporters.append(StateDataReporter(stdout, 1000, step=True,\n",
    "        potentialEnergy=True, temperature=True))\n",
    "simulation.step(10000)"
   ]
  }
 ],
 "metadata": {
  "kernelspec": {
   "display_name": "Python 3",
   "language": "python",
   "name": "python3"
  },
  "language_info": {
   "codemirror_mode": {
    "name": "ipython",
    "version": 3
   },
   "file_extension": ".py",
   "mimetype": "text/x-python",
   "name": "python",
   "nbconvert_exporter": "python",
   "pygments_lexer": "ipython3",
   "version": "3.7.6"
  }
 },
 "nbformat": 4,
 "nbformat_minor": 4
}
